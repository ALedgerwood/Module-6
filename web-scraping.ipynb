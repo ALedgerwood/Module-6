{
 "cells": [
  {
   "cell_type": "markdown",
   "metadata": {},
   "source": [
    "# Web Mining and Applied NLP (44-620)\n",
    "\n",
    "## Web Scraping and NLP with Requests, BeautifulSoup, and spaCy\n",
    "\n",
    "### Student Name: Alexandra Ledgerwood\n",
    "Github Repo: https://github.com/ALedgerwood/Module-6\n",
    "\n",
    "Perform the tasks described in the Markdown cells below.  When you have completed the assignment make sure your code cells have all been run (and have output beneath them) and ensure you have committed and pushed ALL of your changes to your assignment repository.\n",
    "\n",
    "Every question that requires you to write code will have a code cell underneath it; you may either write your entire solution in that cell or write it in a python file (`.py`), then import and run the appropriate code to answer the question."
   ]
  },
  {
   "cell_type": "markdown",
   "metadata": {},
   "source": [
    "1. Write code that extracts the article html from https://web.archive.org/web/20210327165005/https://hackaday.com/2021/03/22/how-laser-headlights-work/ and dumps it to a .pkl (or other appropriate file)"
   ]
  },
  {
   "cell_type": "markdown",
   "metadata": {},
   "source": [
    "# Question 1\n",
    "### extract article html from website"
   ]
  },
  {
   "cell_type": "code",
   "execution_count": 1,
   "metadata": {
    "tags": []
   },
   "outputs": [
    {
     "name": "stdout",
     "output_type": "stream",
     "text": [
      "200\n",
      "text/html; charset=UTF-8\n"
     ]
    }
   ],
   "source": [
    "import requests\n",
    "\n",
    "response = requests.get('https://web.archive.org/web/20210327165005/https://hackaday.com/2021/03/22/how-laser-headlights-work/')\n",
    "\n",
    "print(response.status_code)\n",
    "print(response.headers['content-type'])\n",
    "# Uncomment next line to print the full HTML text;  it's long so when done, recomment\n",
    "# print(response.text)"
   ]
  },
  {
   "cell_type": "code",
   "execution_count": 2,
   "metadata": {
    "tags": []
   },
   "outputs": [],
   "source": [
    "from bs4 import BeautifulSoup\n",
    "\n",
    "# parser = 'html5lib'\n",
    "parser = 'html.parser'\n",
    "\n",
    "soup = BeautifulSoup(response.text, parser)\n",
    "# Uncomment next lines to explore full page contents; it's long so when done, recomment\n",
    "# print(soup)\n",
    "# print(soup.prettify())"
   ]
  },
  {
   "cell_type": "code",
   "execution_count": 4,
   "metadata": {
    "tags": []
   },
   "outputs": [
    {
     "name": "stdout",
     "output_type": "stream",
     "text": [
      "h1 header: <h1 class=\"site-title\">\n",
      "<a href=\"https://web.archive.org/web/20210327165005/https://hackaday.com/\" rel=\"home\">Hackaday</a>\n",
      "</h1>\n",
      "h1 header: <h1 class=\"entry-title\" itemprop=\"name\">How Laser Headlights Work</h1>\n",
      "h1 header: <h1 class=\"screen-reader-text\">Post navigation</h1>\n",
      "h1 header: <h1 class=\"widget-title\">Search</h1>\n",
      "h1 header: <h1 class=\"widget-title\">Never miss a hack</h1>\n",
      "h1 header: <h1 class=\"widget-title\">Subscribe</h1>\n",
      "h1 header: <h1 class=\"widget-title\">If you missed it</h1>\n",
      "h1 header: <h1 class=\"widget-title\">Our Columns</h1>\n",
      "h1 header: <h1 class=\"widget-title\">Search</h1>\n",
      "h1 header: <h1 class=\"widget-title\">Never miss a hack</h1>\n",
      "h1 header: <h1 class=\"widget-title\">Subscribe</h1>\n",
      "h1 header: <h1 class=\"widget-title\">If you missed it</h1>\n",
      "h1 header: <h1 class=\"widget-title\">Categories</h1>\n",
      "h1 header: <h1 class=\"widget-title\">Our Columns</h1>\n",
      "h1 header: <h1 class=\"widget-title\">Recent comments</h1>\n",
      "h1 header: <h1 class=\"widget-title\">Now on Hackaday.io</h1>\n",
      "h1 header: <h1 class=\"footer-widget-title\">Never miss a hack</h1>\n",
      "h1 header: <h1 class=\"footer-widget-title\">Subscribe to Newsletter</h1>\n"
     ]
    }
   ],
   "source": [
    "for header in soup.findAll('h1'):\n",
    "    print('h1 header:', header)\n",
    "    #print('h1 text:', header.text)"
   ]
  },
  {
   "cell_type": "code",
   "execution_count": 6,
   "metadata": {
    "tags": []
   },
   "outputs": [],
   "source": [
    "article_page = requests.get('http://web.archive.org/web/20210415020310/https://hackaday.com/2021/04/02/python-will-soon-support-switch-statements/')\n",
    "article_html = article_page.text\n",
    "\n",
    "# pickle works similar to json, but stores information in a binary format\n",
    "# json files are readable by humans, pickle files, not so much\n",
    "\n",
    "# BeautifulSoup objects don't pickle well, so it's appropriate and polite to web developers to cache the text of the web page, or just dump it to an html file you can read in later as a regular file\n",
    "import pickle\n",
    "with open('python-match.pkl', 'wb') as f:\n",
    "    pickle.dump(article_page.text, f)"
   ]
  },
  {
   "cell_type": "code",
   "execution_count": 9,
   "metadata": {
    "tags": []
   },
   "outputs": [
    {
     "name": "stdout",
     "output_type": "stream",
     "text": [
      "<article class=\"post-466450 post type-post status-publish format-standard has-post-thumbnail hentry category-car-hacks category-engineering category-featured category-laser-hacks category-slider tag-laser tag-laser-headlight tag-laser-headlights tag-light\" id=\"post-466450\" itemscope=\"\" itemtype=\"http://schema.org/Article\">\n",
      "<header class=\"entry-header\">\n",
      "<h1 class=\"entry-title\" itemprop=\"name\">How Laser Headlights Work</h1>\n",
      "<div class=\"entry-meta\">\n",
      "<a class=\"comments-counts\" href=\"https://web.archive.org/web/20210327165005/https://hackaday.com/2021/03/22/how-laser-headlights-work/#comments\"><span class=\"icon-hackaday icon-hackaday-comment\"></span>\n",
      "                130 Comments            </a>\n",
      "<ul class=\"meta-authors vcard author\">\n",
      "<li>by:</li>\n",
      "<span class=\"fn\"><a class=\"author url fn\" href=\"https://web.archive.org/web/20210327165005/https://hackaday.com/author/lewinday/\" rel=\"author\" title=\"Posts by Lewin Day\">Lewin Day</a></span>\n",
      "</ul>\n",
      "</div><!-- .entry-meta -->\n",
      "<div class=\"entry-meta entry-meta-last\">\n",
      "<span class=\"entry-date published updated\" content=\"March 22, 2021\" itemprop=\"datePublished\"><a href=\"https://web.archive.org/web/20210327165005/https://hackaday.com/2021/03/22/\" title=\"March 22, 2021 - 7:01 am\">March 22, 2021</a></span>\n",
      "<ul class=\"share-post\">\n",
      "<li><a href=\"https://web.archive.org/web/20210327165005/https://www.facebook.com/sharer/sharer.php?u=https%3A%2F%2Fhackaday.com%2F2021%2F03%2F22%2Fhow-laser-headlights-work%2F\" target=\"_blank\"><span class=\"icon-hackaday icon-hackaday-facebook\"></span></a></li>\n",
      "<li><a href=\"https://web.archive.org/web/20210327165005/https://twitter.com/intent/tweet?text=How+Laser+Headlights+Work via @hackaday&amp;url=https%3A%2F%2Fhackaday.com%2F2021%2F03%2F22%2Fhow-laser-headlights-work%2F\" target=\"_blank\"><span class=\"icon-hackaday icon-hackaday-twitter\"></span></a></li>\n",
      "</ul>\n",
      "</div><!-- .entry-meta -->\n",
      "<div class=\"entry-featured-image\"><img alt=\"\" content=\"https://hackaday.com/wp-content/uploads/2021/03/LaserHeadlight-thumb.jpg?w=600&amp;h=600\" itemprop=\"image\" src=\"https://web.archive.org/web/20210327165005im_/https://hackaday.com/wp-content/uploads/2021/03/LaserHeadlight.jpg?w=800\"/></div>\n",
      "</header><!-- .entry-header -->\n",
      "<div class=\"entry-content\" itemprop=\"articleBody\">\n",
      "<p>When we think about the onward march of automotive technology, headlights aren’t usually the first thing that come to mind. Engines, fuel efficiency, and the switch to electric power are all more front of mind. However, that doesn’t mean there aren’t thousands of engineers around the world working to improve the state of the art in automotive lighting day in, day out.</p>\n",
      "<p>Sealed beam headlights gave way to more modern designs once regulations loosened up, while bulbs moved from simple halogens to xenon HIDs and, more recently, LEDs. Now, a new technology is on the scene, with lasers!</p>\n",
      "<p><span id=\"more-466450\"></span></p>\n",
      "<h2>Laser Headlights?!</h2>\n",
      "<figure aria-describedby=\"caption-attachment-466463\" class=\"wp-caption alignright\" id=\"attachment_466463\" style=\"width: 290px\"><img alt=\"\" class=\"size-medium wp-image-466463\" data-attachment-id=\"466463\" data-comments-opened=\"1\" data-image-description=\"\" data-image-meta='{\"aperture\":\"0\",\"credit\":\"\",\"camera\":\"\",\"caption\":\"\",\"created_timestamp\":\"0\",\"copyright\":\"\",\"focal_length\":\"0\",\"iso\":\"0\",\"shutter_speed\":\"0\",\"title\":\"\",\"orientation\":\"0\"}' data-image-title=\"laser light bwm proto 2\" data-large-file=\"https://web.archive.org/web/20210327165005/https://hackaday.com/wp-content/uploads/2021/03/laser-light-bwm-proto-2.jpg?w=290\" data-medium-file=\"https://web.archive.org/web/20210327165005/https://hackaday.com/wp-content/uploads/2021/03/laser-light-bwm-proto-2.jpg?w=290\" data-orig-file=\"https://web.archive.org/web/20210327165005/https://hackaday.com/wp-content/uploads/2021/03/laser-light-bwm-proto-2.jpg\" data-orig-size=\"290,193\" data-permalink=\"https://web.archive.org/web/20210327165005/https://hackaday.com/2021/03/22/how-laser-headlights-work/laser-light-bwm-proto-2/\" height=\"193\" loading=\"lazy\" sizes=\"(max-width: 290px) 100vw, 290px\" src=\"https://web.archive.org/web/20210327165005im_/https://hackaday.com/wp-content/uploads/2021/03/laser-light-bwm-proto-2.jpg?w=290\" srcset=\"https://web.archive.org/web/20210327165005im_/https://hackaday.com/wp-content/uploads/2021/03/laser-light-bwm-proto-2.jpg 290w, https://web.archive.org/web/20210327165005im_/https://hackaday.com/wp-content/uploads/2021/03/laser-light-bwm-proto-2.jpg?resize=250,166 250w\" width=\"290\"><figcaption class=\"wp-caption-text\" id=\"caption-attachment-466463\">BWM’s prototype laser headlight assemblies undergoing testing.</figcaption></img></figure>\n",
      "<p>The first image brought to mind by the phrase “laser headlights” is that of laser beams firing out the front of an automobile. Obviously, coherent beams of monochromatic light would make for poor illumination outside of a very specific spot quite some distance away. Thankfully for our eyes, laser headlights don’t work in this way at all.</p>\n",
      "<p>Instead, laser headlights consist of one or more solid state laser diodes mounted inside the headlight. These blue lasers are fired at a yellow phosphor, similar to that used in white LEDs. This produces a powerful, vibrant white light that can then be bounced off reflectors and out of the headlights towards the road. Laser headlights built in this way have several benefits. They’re more energy efficient than LEDs that put out the same amount of light, while also being more space efficient, too.</p>\n",
      "<figure aria-describedby=\"caption-attachment-466464\" class=\"wp-caption alignleft\" id=\"attachment_466464\" style=\"width: 400px\"><img alt=\"\" class=\"size-medium wp-image-466464\" data-attachment-id=\"466464\" data-comments-opened=\"1\" data-image-description=\"\" data-image-meta='{\"aperture\":\"0\",\"credit\":\"\",\"camera\":\"\",\"caption\":\"\",\"created_timestamp\":\"0\",\"copyright\":\"\",\"focal_length\":\"0\",\"iso\":\"0\",\"shutter_speed\":\"0\",\"title\":\"\",\"orientation\":\"0\"}' data-image-title=\"laser headlight bmw i8\" data-large-file=\"https://web.archive.org/web/20210327165005/https://hackaday.com/wp-content/uploads/2021/03/laser-headlight-bmw-i8.jpg?w=800\" data-medium-file=\"https://web.archive.org/web/20210327165005/https://hackaday.com/wp-content/uploads/2021/03/laser-headlight-bmw-i8.jpg?w=400\" data-orig-file=\"https://web.archive.org/web/20210327165005/https://hackaday.com/wp-content/uploads/2021/03/laser-headlight-bmw-i8.jpg\" data-orig-size=\"1900,1265\" data-permalink=\"https://web.archive.org/web/20210327165005/https://hackaday.com/2021/03/22/how-laser-headlights-work/laser-headlight-bmw-i8/\" height=\"266\" loading=\"lazy\" sizes=\"(max-width: 400px) 100vw, 400px\" src=\"https://web.archive.org/web/20210327165005im_/https://hackaday.com/wp-content/uploads/2021/03/laser-headlight-bmw-i8.jpg?w=400\" srcset=\"https://web.archive.org/web/20210327165005im_/https://hackaday.com/wp-content/uploads/2021/03/laser-headlight-bmw-i8.jpg 1900w, https://web.archive.org/web/20210327165005im_/https://hackaday.com/wp-content/uploads/2021/03/laser-headlight-bmw-i8.jpg?resize=250,166 250w, https://web.archive.org/web/20210327165005im_/https://hackaday.com/wp-content/uploads/2021/03/laser-headlight-bmw-i8.jpg?resize=400,266 400w, https://web.archive.org/web/20210327165005im_/https://hackaday.com/wp-content/uploads/2021/03/laser-headlight-bmw-i8.jpg?resize=800,533 800w, https://web.archive.org/web/20210327165005im_/https://hackaday.com/wp-content/uploads/2021/03/laser-headlight-bmw-i8.jpg?resize=1536,1023 1536w\" width=\"400\"><figcaption class=\"wp-caption-text\" id=\"caption-attachment-466464\">BWM’s futuristic i8 was one of the first vehicles to ship with laser headlight technology.</figcaption></img></figure>\n",
      "<p>Laser headlights are still a nascent technology, thus far only appearing in a few BMW, Audi, and other select vehicles. <a href=\"https://web.archive.org/web/20210327165005/https://www.osram.com/am/specials/trends-in-automotive-lighting/laser-light-new-headlight-technology/questions-and-answers-on-innovative-laser-technology/index.jsp\" target=\"_blank\">BMW’s technology was developed in partnership with lighting experts OSRAM</a>. In practice, a regular LED low-beam lamp is used, with the laser used to create an incredibly bright and focused spot, used for high-beams. This can provide illumination out to 600 meters ahead of the vehicle, double that of conventional LED high beams. The lights use indium gallium nitride diode lasers that were originally used in projectors, with power levels above 1 watt. One of the challenges in implementing such technology in an automotive environment is the need for it to operate at temperature extremes. While research lasers and laser pointers may primarily be used at typical room temperatures, automotive headlights must be able to withstand everything from 40 degrees below zero up to 50 degrees C. Thankfully, the laser’s high efficiency means it doesn’t have huge heat output of its own to further complicate things. Other engineering challenges involve tailoring the optics package for the rough-and-tumble, high vibration environment found in the automotive application. It’s also important to ensure, as with any such device, that the end user can’t be exposed to harmful laser radiation in the event of accident or malfunction.</p>\n",
      "<h2>Tearing Down the Laser Headlight</h2>\n",
      "<figure aria-describedby=\"caption-attachment-466457\" class=\"wp-caption alignright\" id=\"attachment_466457\" style=\"width: 400px\"><img alt=\"\" class=\"size-medium wp-image-466457\" data-attachment-id=\"466457\" data-comments-opened=\"1\" data-image-description=\"\" data-image-meta='{\"aperture\":\"0\",\"credit\":\"\",\"camera\":\"\",\"caption\":\"\",\"created_timestamp\":\"0\",\"copyright\":\"\",\"focal_length\":\"0\",\"iso\":\"0\",\"shutter_speed\":\"0\",\"title\":\"\",\"orientation\":\"0\"}' data-image-title=\"ledheadlights-aliexp\" data-large-file=\"https://web.archive.org/web/20210327165005/https://hackaday.com/wp-content/uploads/2021/03/ledheadlights-aliexp.jpg?w=625\" data-medium-file=\"https://web.archive.org/web/20210327165005/https://hackaday.com/wp-content/uploads/2021/03/ledheadlights-aliexp.jpg?w=400\" data-orig-file=\"https://web.archive.org/web/20210327165005/https://hackaday.com/wp-content/uploads/2021/03/ledheadlights-aliexp.jpg\" data-orig-size=\"930,930\" data-permalink=\"https://web.archive.org/web/20210327165005/https://hackaday.com/2021/03/22/how-laser-headlights-work/ledheadlights-aliexp/\" height=\"400\" loading=\"lazy\" sizes=\"(max-width: 400px) 100vw, 400px\" src=\"https://web.archive.org/web/20210327165005im_/https://hackaday.com/wp-content/uploads/2021/03/ledheadlights-aliexp.jpg?w=400\" srcset=\"https://web.archive.org/web/20210327165005im_/https://hackaday.com/wp-content/uploads/2021/03/ledheadlights-aliexp.jpg 930w, https://web.archive.org/web/20210327165005im_/https://hackaday.com/wp-content/uploads/2021/03/ledheadlights-aliexp.jpg?resize=250,250 250w, https://web.archive.org/web/20210327165005im_/https://hackaday.com/wp-content/uploads/2021/03/ledheadlights-aliexp.jpg?resize=400,400 400w, https://web.archive.org/web/20210327165005im_/https://hackaday.com/wp-content/uploads/2021/03/ledheadlights-aliexp.jpg?resize=625,625 625w\" width=\"400\"/><figcaption class=\"wp-caption-text\" id=\"caption-attachment-466457\">A marketing image showing the construction of an aftermarket LED/laser headlight. We’d take the laser power with a grain of salt — it’s difficult to imagine a 10 W laser shining directly on some small LEDs without melting a hole through the board in short order.</figcaption></figure>\n",
      "<p>An aftermarket has sprung up too, with delightfully innovative designs. Combined laser/LED headlights are readily available on Alibaba, <a href=\"https://web.archive.org/web/20210327165005/https://www.aliexpress.com/item/1005001889968976.html?spm=a2g0o.search0302.0.0.5bebc1d45ruE7k&amp;algo_pvid=b016ca5c-d0fe-4309-ab5f-e39ea8770c80&amp;algo_expid=b016ca5c-d0fe-4309-ab5f-e39ea8770c80-0&amp;btsid=0b0a556516155071180373533e897a&amp;ws_ab_test=searchweb0_0,searchweb201602_,searchweb201603_\" target=\"_blank\">designed as a drop in replacement for projector lamps on existing vehicles.</a> These often use an LED low-beam, and a combined LED/laser high beam, where the laser diode shoots directly at the LED phosphor to excite it further, rather than using its own. These units often also come with fan cooling to keep the laser and LEDs below their maximum operational temperature. Such developments are exciting, though it’s important to be wary of the performance of unknown aftermarket headlights. <a href=\"https://web.archive.org/web/20210327165005/https://jalopnik.com/why-most-led-headlight-upgrades-dont-really-work-an-ex-1843070472\" target=\"_blank\">Many aftermarket LED headlight “upgrades” fail to pass muster</a> when it comes to real-world performance, and there’s no reason to believe hybrid LED/laser designs will be any different. We’d love to pass a selection of these parts through <a href=\"https://web.archive.org/web/20210327165005/http://www.vdrsyd.com/ancap_datasheets/xprotocol_archive/IIHS/headlight_test_rating_protocol.pdf\" target=\"_blank\">a full IIHS test protocol</a>, but that’s sadly beyond the scope (and budget!) of this article.</p>\n",
      "<p>However, [mikeselectricstuff] has happened to lay his hands on both the BMW and aftermarket parts, <a href=\"https://web.archive.org/web/20210327165005/https://www.youtube.com/watch?v=7fRjMHtnShs\" target=\"_blank\">tearing them all down in his workshop to see what makes them tick.</a> The differences are multitude when laid bare on the bench. The AliExpress part is relatively simple, wired up no differently from a regular headlight. Interestingly, however, the laser high-beam circuit runs all the time in these parts. To prevent blinding other road users, a shutter is kept in place to block the light, which is moved out of the way with a solenoid when the driver turns on the high beam switch.</p>\n",
      "<p>Where the aftermarket part is a little out of left field, the BMW design is another thing entirely. The cutting-edge headlights are hooked up with multiple connectors and over 30 conductors, with much of the driver electronics living in an external controller. Much of this is to drive the various LEDs and stepper motors for slewing the headlights when steering. However, the laser assembly brings its own complexities. Twin light sensors are built inside to monitor the laser beam, and a special metal blocking arm sits directly in front of the diode, presumably to stop the laser light leaving the headlight in the event the phosphor coating burns through. It’s truly wild to get a look inside a modern luxury car’s headlight and see just how far we’ve come from the old days of simple sealed beams.</p>\n",
      "<h2>Cost Versus Performance</h2>\n",
      "<p>Despite the efficiency gains available, the technology remains expensive. Powerful laser diodes don’t come cheap, after all. However, as the technology trickles down to lower-end models, it’s likely that we could see economies of scale change that for the better. Indeed, if national authorities begin to demand higher performance headlights as standard, we could see laser headlights become the norm, rather than an expensive luxury. The technology could naturally be applied to home and commercial lighting, too — though we suspect the potential gains are limited enough that LED lighting will remain the norm for some time to come.</p>\n",
      "<figure aria-describedby=\"caption-attachment-466459\" class=\"wp-caption alignright\" id=\"attachment_466459\" style=\"width: 400px\"><img alt=\"\" class=\"size-medium wp-image-466459\" data-attachment-id=\"466459\" data-comments-opened=\"1\" data-image-description=\"\" data-image-meta='{\"aperture\":\"0\",\"credit\":\"\",\"camera\":\"\",\"caption\":\"\",\"created_timestamp\":\"0\",\"copyright\":\"\",\"focal_length\":\"0\",\"iso\":\"0\",\"shutter_speed\":\"0\",\"title\":\"\",\"orientation\":\"0\"}' data-image-title=\"laser headlights bmw laser\" data-large-file=\"https://web.archive.org/web/20210327165005/https://hackaday.com/wp-content/uploads/2021/03/laser-headlights-bmw-laser.jpg?w=796\" data-medium-file=\"https://web.archive.org/web/20210327165005/https://hackaday.com/wp-content/uploads/2021/03/laser-headlights-bmw-laser.jpg?w=400\" data-orig-file=\"https://web.archive.org/web/20210327165005/https://hackaday.com/wp-content/uploads/2021/03/laser-headlights-bmw-laser.jpg\" data-orig-size=\"796,316\" data-permalink=\"https://web.archive.org/web/20210327165005/https://hackaday.com/2021/03/22/how-laser-headlights-work/laser-headlights-bmw-laser/\" height=\"159\" loading=\"lazy\" sizes=\"(max-width: 400px) 100vw, 400px\" src=\"https://web.archive.org/web/20210327165005im_/https://hackaday.com/wp-content/uploads/2021/03/laser-headlights-bmw-laser.jpg?w=400\" srcset=\"https://web.archive.org/web/20210327165005im_/https://hackaday.com/wp-content/uploads/2021/03/laser-headlights-bmw-laser.jpg 796w, https://web.archive.org/web/20210327165005im_/https://hackaday.com/wp-content/uploads/2021/03/laser-headlights-bmw-laser.jpg?resize=250,99 250w, https://web.archive.org/web/20210327165005im_/https://hackaday.com/wp-content/uploads/2021/03/laser-headlights-bmw-laser.jpg?resize=400,159 400w\" width=\"400\"/><figcaption class=\"wp-caption-text\" id=\"caption-attachment-466459\">The high light output of laser headlights in a compact package allows engineers greater freedom when designing the front-end of a car.</figcaption></figure>\n",
      "<p>As it currently stands, much of the appeal of the new technology is about the packaging benefits, which allow automotive designers greater freedom around the headlight area. Such concerns are less of a factor when it comes to light fittings in the home or office, or indeed, on lower-end automobiles. Regardless, it’s an exciting new application for lasers and one we’ll be sure to see more of in the future.</p>\n",
      "<p> </p>\n",
      "</div><!-- .entry-content -->\n",
      "<ul class=\"sharing\">\n",
      "<li class=\"\">\n",
      "<a class=\"facebook\" href=\"https://web.archive.org/web/20210327165005/https://www.facebook.com/sharer/sharer.php?u=https%3A%2F%2Fhackaday.com%2F2021%2F03%2F22%2Fhow-laser-headlights-work%2F\" target=\"_blank\">\n",
      "<i class=\"socicon-facebook\"><img src=\"https://web.archive.org/web/20210327165005im_/https://hackaday.com/wp-content/themes/hackaday-2/img/share_face.png\"/> </i>\n",
      "</a>\n",
      "</li>\n",
      "<li class=\"\">\n",
      "<a class=\"twitter\" href=\"https://web.archive.org/web/20210327165005/https://twitter.com/intent/tweet?text=How+Laser+Headlights+Work via @hackaday&amp;url=https%3A%2F%2Fhackaday.com%2F2021%2F03%2F22%2Fhow-laser-headlights-work%2F\" target=\"_blank\">\n",
      "<i class=\"socicon-twitter\"><img src=\"https://web.archive.org/web/20210327165005im_/https://hackaday.com/wp-content/themes/hackaday-2/img/share_twitter.png\"/></i>\n",
      "</a>\n",
      "</li>\n",
      "<li class=\"\">\n",
      "<a class=\"linkedin\" href=\"https://web.archive.org/web/20210327165005/https://www.linkedin.com/shareArticle?url=https%3A%2F%2Fhackaday.com%2F2021%2F03%2F22%2Fhow-laser-headlights-work%2F\" target=\"_blank\">\n",
      "<i class=\"socicon-linkedin\"><img src=\"https://web.archive.org/web/20210327165005im_/https://hackaday.com/wp-content/themes/hackaday-2/img/share_in.png\"/></i>\n",
      "</a>\n",
      "</li>\n",
      "<li class=\"\">\n",
      "<a class=\"mail\" href=\"https://web.archive.org/web/20210327165005/mailto:/?subject=How+Laser+Headlights+Work | Hackaday&amp;body=https%3A%2F%2Fhackaday.com%2F2021%2F03%2F22%2Fhow-laser-headlights-work%2F\">\n",
      "<i class=\"\"><img src=\"https://web.archive.org/web/20210327165005im_/https://hackaday.com/wp-content/themes/hackaday-2/img/share_mail1.png\"/></i>\n",
      "</a>\n",
      "</li>\n",
      "</ul>\n",
      "<footer class=\"entry-footer\">\n",
      "<span class=\"cat-links\">Posted in <a href=\"https://web.archive.org/web/20210327165005/https://hackaday.com/category/car-hacks/\" rel=\"category tag\">car hacks</a>, <a href=\"https://web.archive.org/web/20210327165005/https://hackaday.com/category/curated/engineering/\" rel=\"category tag\">Engineering</a>, <a href=\"https://web.archive.org/web/20210327165005/https://hackaday.com/category/featured/\" rel=\"category tag\">Featured</a>, <a href=\"https://web.archive.org/web/20210327165005/https://hackaday.com/category/laser-hacks/\" rel=\"category tag\">Laser Hacks</a>, <a href=\"https://web.archive.org/web/20210327165005/https://hackaday.com/category/slider/\" rel=\"category tag\">Slider</a></span><span class=\"tags-links\">Tagged <a href=\"https://web.archive.org/web/20210327165005/https://hackaday.com/tag/laser/\" rel=\"tag\">laser</a>, <a href=\"https://web.archive.org/web/20210327165005/https://hackaday.com/tag/laser-headlight/\" rel=\"tag\">laser headlight</a>, <a href=\"https://web.archive.org/web/20210327165005/https://hackaday.com/tag/laser-headlights/\" rel=\"tag\">laser headlights</a>, <a href=\"https://web.archive.org/web/20210327165005/https://hackaday.com/tag/light/\" rel=\"tag\">light</a></span><meta content=\"https://web.archive.org/web/20210327165005/https://hackaday.com/2021/03/22/how-laser-headlights-work/\" itemprop=\"url\"/> </footer><!-- .entry-footer -->\n",
      "</article>\n"
     ]
    }
   ],
   "source": [
    "with open('python-match.pkl', 'rb') as f:\n",
    "    article_html = pickle.load(f)\n",
    "article_element = soup.find('article')\n",
    "# Uncomment to see the entire article element html; again, it's long\n",
    "print(article_element)"
   ]
  },
  {
   "cell_type": "markdown",
   "metadata": {},
   "source": [
    "2. Read in your article's html source from the file you created in question 1 and print it's text (use `.get_text()`)"
   ]
  },
  {
   "cell_type": "markdown",
   "metadata": {},
   "source": [
    "# Question 2\n",
    "### Get the article text"
   ]
  },
  {
   "cell_type": "code",
   "execution_count": null,
   "metadata": {},
   "outputs": [],
   "source": []
  },
  {
   "cell_type": "markdown",
   "metadata": {},
   "source": [
    "3. Load the article text into a trained `spaCy` pipeline, and determine the 5 most frequent tokens (converted to lower case).  Print the common tokens with an appropriate label.  Additionally, print the tokens their frequencies (with appropriate labels). Make sure to remove things we don't care about (punctuation, stopwords, whitespace)."
   ]
  },
  {
   "cell_type": "code",
   "execution_count": null,
   "metadata": {},
   "outputs": [],
   "source": []
  },
  {
   "cell_type": "markdown",
   "metadata": {},
   "source": [
    "4. Load the article text into a trained `spaCy` pipeline, and determine the 5 most frequent lemmas (converted to lower case).  Print the common lemmas with an appropriate label.  Additionally, print the lemmas with their frequencies (with appropriate labels). Make sure to remove things we don't care about (punctuation, stopwords, whitespace)."
   ]
  },
  {
   "cell_type": "code",
   "execution_count": null,
   "metadata": {},
   "outputs": [],
   "source": []
  },
  {
   "cell_type": "markdown",
   "metadata": {},
   "source": [
    "5. Define the following methods:\n",
    "    * `score_sentence_by_token(sentence, interesting_token)` that takes a sentence and a list of interesting token and returns the number of times that any of the interesting words appear in the sentence divided by the number of words in the sentence\n",
    "    * `score_sentence_by_lemma(sentence, interesting_lemmas)` that takes a sentence and a list of interesting lemmas and returns the number of times that any of the interesting lemmas appear in the sentence divided by the number of words in the sentence\n",
    "    \n",
    "You may find some of the code from the in class notes useful; feel free to use methods (rewrite them in this cell as well).  Test them by showing the score of the first sentence in your article using the frequent tokens and frequent lemmas identified in question 3."
   ]
  },
  {
   "cell_type": "code",
   "execution_count": null,
   "metadata": {},
   "outputs": [],
   "source": []
  },
  {
   "cell_type": "markdown",
   "metadata": {},
   "source": [
    "6. Make a list containing the scores (using tokens) of every sentence in the article, and plot a histogram with appropriate titles and axis labels of the scores. From your histogram, what seems to be the most common range of scores (put the answer in a comment after your code)?"
   ]
  },
  {
   "cell_type": "code",
   "execution_count": null,
   "metadata": {},
   "outputs": [],
   "source": []
  },
  {
   "cell_type": "markdown",
   "metadata": {},
   "source": [
    "7. Make a list containing the scores (using lemmas) of every sentence in the article, and plot a histogram with appropriate titles and axis labels of the scores.  From your histogram, what seems to be the most common range of scores (put the answer in a comment after your code)?"
   ]
  },
  {
   "cell_type": "code",
   "execution_count": null,
   "metadata": {},
   "outputs": [],
   "source": []
  },
  {
   "cell_type": "markdown",
   "metadata": {},
   "source": [
    "8. Which tokens and lexems would be ommitted from the lists generated in questions 3 and 4 if we only wanted to consider nouns as interesting words?  How might we change the code to only consider nouns? Put your answer in this Markdown cell (you can edit it by double clicking it)."
   ]
  }
 ],
 "metadata": {
  "kernelspec": {
   "display_name": "Python 3 (ipykernel)",
   "language": "python",
   "name": "python3"
  },
  "language_info": {
   "codemirror_mode": {
    "name": "ipython",
    "version": 3
   },
   "file_extension": ".py",
   "mimetype": "text/x-python",
   "name": "python",
   "nbconvert_exporter": "python",
   "pygments_lexer": "ipython3",
   "version": "3.9.13"
  }
 },
 "nbformat": 4,
 "nbformat_minor": 4
}
