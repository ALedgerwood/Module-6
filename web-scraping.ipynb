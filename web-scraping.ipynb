{
 "cells": [
  {
   "cell_type": "markdown",
   "metadata": {},
   "source": [
    "# Web Mining and Applied NLP (44-620)\n",
    "\n",
    "## Web Scraping and NLP with Requests, BeautifulSoup, and spaCy\n",
    "\n",
    "### Student Name: Alexandra Ledgerwood\n",
    "Github Repo: https://github.com/ALedgerwood/Module-6\n",
    "\n",
    "Perform the tasks described in the Markdown cells below.  When you have completed the assignment make sure your code cells have all been run (and have output beneath them) and ensure you have committed and pushed ALL of your changes to your assignment repository.\n",
    "\n",
    "Every question that requires you to write code will have a code cell underneath it; you may either write your entire solution in that cell or write it in a python file (`.py`), then import and run the appropriate code to answer the question."
   ]
  },
  {
   "cell_type": "markdown",
   "metadata": {},
   "source": [
    "1. Write code that extracts the article html from https://web.archive.org/web/20210327165005/https://hackaday.com/2021/03/22/how-laser-headlights-work/ and dumps it to a .pkl (or other appropriate file)"
   ]
  },
  {
   "cell_type": "markdown",
   "metadata": {},
   "source": [
    "# Question 1\n",
    "### extract article html from website"
   ]
  },
  {
   "cell_type": "code",
   "execution_count": 2,
   "metadata": {
    "tags": []
   },
   "outputs": [
    {
     "name": "stdout",
     "output_type": "stream",
     "text": [
      "200\n",
      "text/html; charset=UTF-8\n"
     ]
    }
   ],
   "source": [
    "import requests\n",
    "\n",
    "response = requests.get('https://web.archive.org/web/20210327165005/https://hackaday.com/2021/03/22/how-laser-headlights-work/')\n",
    "\n",
    "print(response.status_code)\n",
    "print(response.headers['content-type'])\n",
    "# Uncomment next line to print the full HTML text;  it's long so when done, recomment\n",
    "# print(response.text)"
   ]
  },
  {
   "cell_type": "code",
   "execution_count": 3,
   "metadata": {
    "tags": []
   },
   "outputs": [],
   "source": [
    "from bs4 import BeautifulSoup\n",
    "\n",
    "# parser = 'html5lib'\n",
    "parser = 'html.parser'\n",
    "\n",
    "soup = BeautifulSoup(response.text, parser)\n",
    "# Uncomment next lines to explore full page contents; it's long so when done, recomment\n",
    "# print(soup)\n",
    "# print(soup.prettify())"
   ]
  },
  {
   "cell_type": "code",
   "execution_count": 4,
   "metadata": {
    "tags": []
   },
   "outputs": [
    {
     "name": "stdout",
     "output_type": "stream",
     "text": [
      "h1 header: <h1 class=\"site-title\">\n",
      "<a href=\"https://web.archive.org/web/20210327165005/https://hackaday.com/\" rel=\"home\">Hackaday</a>\n",
      "</h1>\n",
      "h1 header: <h1 class=\"entry-title\" itemprop=\"name\">How Laser Headlights Work</h1>\n",
      "h1 header: <h1 class=\"screen-reader-text\">Post navigation</h1>\n",
      "h1 header: <h1 class=\"widget-title\">Search</h1>\n",
      "h1 header: <h1 class=\"widget-title\">Never miss a hack</h1>\n",
      "h1 header: <h1 class=\"widget-title\">Subscribe</h1>\n",
      "h1 header: <h1 class=\"widget-title\">If you missed it</h1>\n",
      "h1 header: <h1 class=\"widget-title\">Our Columns</h1>\n",
      "h1 header: <h1 class=\"widget-title\">Search</h1>\n",
      "h1 header: <h1 class=\"widget-title\">Never miss a hack</h1>\n",
      "h1 header: <h1 class=\"widget-title\">Subscribe</h1>\n",
      "h1 header: <h1 class=\"widget-title\">If you missed it</h1>\n",
      "h1 header: <h1 class=\"widget-title\">Categories</h1>\n",
      "h1 header: <h1 class=\"widget-title\">Our Columns</h1>\n",
      "h1 header: <h1 class=\"widget-title\">Recent comments</h1>\n",
      "h1 header: <h1 class=\"widget-title\">Now on Hackaday.io</h1>\n",
      "h1 header: <h1 class=\"footer-widget-title\">Never miss a hack</h1>\n",
      "h1 header: <h1 class=\"footer-widget-title\">Subscribe to Newsletter</h1>\n"
     ]
    }
   ],
   "source": [
    "for header in soup.findAll('h1'):\n",
    "    print('h1 header:', header)\n",
    "    #print('h1 text:', header.text)"
   ]
  },
  {
   "cell_type": "code",
   "execution_count": 59,
   "metadata": {
    "tags": []
   },
   "outputs": [
    {
     "name": "stdout",
     "output_type": "stream",
     "text": [
      "Article HTML saved to article_html.pkl\n"
     ]
    }
   ],
   "source": [
    "import requests\n",
    "import pickle\n",
    "\n",
    "def extract_article_html(url):\n",
    "    response = requests.get(url)\n",
    "    if response.status_code == 200:\n",
    "        return response.text\n",
    "    else:\n",
    "        print(f\"Failed to fetch the webpage\")\n",
    "        return None\n",
    "\n",
    "if __name__ == \"__main__\":\n",
    "    url = \"https://web.archive.org/web/20210327165005/https://hackaday.com/2021/03/22/how-laser-headlights-work/\"\n",
    "    article_html = extract_article_html(url)\n",
    "\n",
    "    if article_html:\n",
    "        output_filename = \"article_html.pkl\"\n",
    "        with open(output_filename, \"wb\") as f:\n",
    "            pickle.dump(article_html, f)\n",
    "        print(f\"Article HTML saved to {output_filename}\")"
   ]
  },
  {
   "cell_type": "markdown",
   "metadata": {},
   "source": [
    "2. Read in your article's html source from the file you created in question 1 and print it's text (use `.get_text()`)"
   ]
  },
  {
   "cell_type": "markdown",
   "metadata": {},
   "source": [
    "# Question 2\n",
    "### Get the article text"
   ]
  },
  {
   "cell_type": "code",
   "execution_count": 73,
   "metadata": {},
   "outputs": [
    {
     "name": "stdout",
     "output_type": "stream",
     "text": [
      "\n",
      "\n",
      "How Laser Headlights Work\n",
      "\n",
      "\n",
      "                130 Comments            \n",
      "\n",
      "by:\n",
      "Lewin Day\n",
      "\n",
      "\n",
      "\n",
      "March 22, 2021\n",
      "\n",
      "\n",
      "\n",
      "\n",
      "\n",
      "\n",
      "\n",
      "\n",
      "When we think about the onward march of automotive technology, headlights aren’t usually the first thing that come to mind. Engines, fuel efficiency, and the switch to electric power are all more front of mind. However, that doesn’t mean there aren’t thousands of engineers around the world working to improve the state of the art in automotive lighting day in, day out.\n",
      "Sealed beam headlights gave way to more modern designs once regulations loosened up, while bulbs moved from simple halogens to xenon HIDs and, more recently, LEDs. Now, a new technology is on the scene, with lasers!\n",
      "\n",
      "Laser Headlights?!\n",
      "BWM’s prototype laser headlight assemblies undergoing testing.\n",
      "The first image brought to mind by the phrase “laser headlights” is that of laser beams firing out the front of an automobile. Obviously, coherent beams of monochromatic light would make for poor illumination outside of a very specific spot quite some distance away. Thankfully for our eyes, laser headlights don’t work in this way at all.\n",
      "Instead, laser headlights consist of one or more solid state laser diodes mounted inside the headlight. These blue lasers are fired at a yellow phosphor, similar to that used in white LEDs. This produces a powerful, vibrant white light that can then be bounced off reflectors and out of the headlights towards the road. Laser headlights built in this way have several benefits. They’re more energy efficient than LEDs that put out the same amount of light, while also being more space efficient, too.\n",
      "BWM’s futuristic i8 was one of the first vehicles to ship with laser headlight technology.\n",
      "Laser headlights are still a nascent technology, thus far only appearing in a few BMW, Audi, and other select vehicles. BMW’s technology was developed in partnership with lighting experts OSRAM. In practice, a regular LED low-beam lamp is used, with the laser used to create an incredibly bright and focused spot, used for high-beams. This can provide illumination out to 600 meters ahead of the vehicle, double that of conventional LED high beams. The lights use indium gallium nitride diode lasers that were originally used in projectors, with power levels above 1 watt. One of the challenges in implementing such technology in an automotive environment is the need for it to operate at temperature extremes. While research lasers and laser pointers may primarily be used at typical room temperatures, automotive headlights must be able to withstand everything from 40 degrees below zero up to 50 degrees C. Thankfully, the laser’s high efficiency means it doesn’t have huge heat output of its own to further complicate things. Other engineering challenges involve tailoring the optics package for the rough-and-tumble, high vibration environment found in the automotive application. It’s also important to ensure, as with any such device, that the end user can’t be exposed to harmful laser radiation in the event of accident or malfunction.\n",
      "Tearing Down the Laser Headlight\n",
      "A marketing image showing the construction of an aftermarket LED/laser headlight. We’d take the laser power with a grain of salt — it’s difficult to imagine a 10 W laser shining directly on some small LEDs without melting a hole through the board in short order.\n",
      "An aftermarket has sprung up too, with delightfully innovative designs. Combined laser/LED headlights are readily available on Alibaba, designed as a drop in replacement for projector lamps on existing vehicles. These often use an LED low-beam, and a combined LED/laser high beam, where the laser diode shoots directly at the LED phosphor to excite it further, rather than using its own. These units often also come with fan cooling to keep the laser and LEDs below their maximum operational temperature. Such developments are exciting, though it’s important to be wary of the performance of unknown aftermarket headlights. Many aftermarket LED headlight “upgrades” fail to pass muster when it comes to real-world performance, and there’s no reason to believe hybrid LED/laser designs will be any different. We’d love to pass a selection of these parts through a full IIHS test protocol, but that’s sadly beyond the scope (and budget!) of this article.\n",
      "However, [mikeselectricstuff] has happened to lay his hands on both the BMW and aftermarket parts, tearing them all down in his workshop to see what makes them tick. The differences are multitude when laid bare on the bench. The AliExpress part is relatively simple, wired up no differently from a regular headlight. Interestingly, however, the laser high-beam circuit runs all the time in these parts. To prevent blinding other road users, a shutter is kept in place to block the light, which is moved out of the way with a solenoid when the driver turns on the high beam switch.\n",
      "Where the aftermarket part is a little out of left field, the BMW design is another thing entirely. The cutting-edge headlights are hooked up with multiple connectors and over 30 conductors, with much of the driver electronics living in an external controller. Much of this is to drive the various LEDs and stepper motors for slewing the headlights when steering. However, the laser assembly brings its own complexities. Twin light sensors are built inside to monitor the laser beam, and a special metal blocking arm sits directly in front of the diode, presumably to stop the laser light leaving the headlight in the event the phosphor coating burns through. It’s truly wild to get a look inside a modern luxury car’s headlight and see just how far we’ve come from the old days of simple sealed beams.\n",
      "Cost Versus Performance\n",
      "Despite the efficiency gains available, the technology remains expensive. Powerful laser diodes don’t come cheap, after all. However, as the technology trickles down to lower-end models, it’s likely that we could see economies of scale change that for the better. Indeed, if national authorities begin to demand higher performance headlights as standard, we could see laser headlights become the norm, rather than an expensive luxury. The technology could naturally be applied to home and commercial lighting, too — though we suspect the potential gains are limited enough that LED lighting will remain the norm for some time to come.\n",
      "The high light output of laser headlights in a compact package allows engineers greater freedom when designing the front-end of a car.\n",
      "As it currently stands, much of the appeal of the new technology is about the packaging benefits, which allow automotive designers greater freedom around the headlight area. Such concerns are less of a factor when it comes to light fittings in the home or office, or indeed, on lower-end automobiles. Regardless, it’s an exciting new application for lasers and one we’ll be sure to see more of in the future.\n",
      " \n",
      "\n",
      "\n",
      "\n",
      "\n",
      " \n",
      "\n",
      "\n",
      "\n",
      "\n",
      "\n",
      "\n",
      "\n",
      "\n",
      "\n",
      "\n",
      "\n",
      "\n",
      "\n",
      "\n",
      "\n",
      "\n",
      "\n",
      "\n",
      "\n",
      "Posted in car hacks, Engineering, Featured, Laser Hacks, SliderTagged laser, laser headlight, laser headlights, light \n",
      "\n"
     ]
    }
   ],
   "source": [
    "import pickle\n",
    "from bs4 import BeautifulSoup\n",
    "parser = 'html.parser'\n",
    "soup = BeautifulSoup(article_html, parser)\n",
    "\n",
    "def extract_text_from_html(html_content):\n",
    "    return soup.get_text()\n",
    "\n",
    "if __name__ == \"__main__\":\n",
    "    input_filename = \"article_html.pkl\"\n",
    "    with open(input_filename, \"rb\") as f:\n",
    "        article_html = pickle.load(f)\n",
    "\n",
    "    article_element = soup.find('article')\n",
    "    print(article_element.get_text())"
   ]
  },
  {
   "cell_type": "markdown",
   "metadata": {},
   "source": [
    "3. Load the article text into a trained `spaCy` pipeline, and determine the 5 most frequent tokens (converted to lower case).  Print the common tokens with an appropriate label.  Additionally, print the tokens their frequencies (with appropriate labels). Make sure to remove things we don't care about (punctuation, stopwords, whitespace)."
   ]
  },
  {
   "cell_type": "markdown",
   "metadata": {},
   "source": [
    "# Question 3\n",
    "### Determine five most frequent tokens"
   ]
  },
  {
   "cell_type": "code",
   "execution_count": 74,
   "metadata": {
    "tags": []
   },
   "outputs": [
    {
     "name": "stdout",
     "output_type": "stream",
     "text": [
      "The 5 most common tokens are: [('laser', 35), ('headlights', 19), ('headlight', 11), ('technology', 10), ('led', 10)]\n",
      "{'led', 'technology', 'laser', 'headlight', 'headlights'}\n"
     ]
    }
   ],
   "source": [
    "import spacy\n",
    "from spacytextblob.spacytextblob import SpacyTextBlob\n",
    "\n",
    "nlp = spacy.load('en_core_web_sm')\n",
    "nlp.add_pipe('spacytextblob')\n",
    "doc = nlp(article_element.get_text())\n",
    "\n",
    "non_ws_tokens = []\n",
    "for token in doc:\n",
    "    if not token.is_space:\n",
    "        non_ws_tokens.append(token)\n",
    "\n",
    "from collections import Counter\n",
    "\n",
    "def we_care_about(token):\n",
    "    return not (token.is_space or token.is_punct or token.is_stop)\n",
    "\n",
    "interesting_tokens = [token.text.lower() for token in doc if we_care_about(token)]\n",
    "word_freq = Counter(map(str,interesting_tokens))\n",
    "print(f'The 5 most common tokens are: {word_freq.most_common(5)}')\n",
    "\n",
    "top_five_tokens = set()\n",
    "for token, freq in word_freq.most_common(5):\n",
    "    top_five_tokens.add(token)\n",
    "\n",
    "print(top_five_tokens)"
   ]
  },
  {
   "cell_type": "markdown",
   "metadata": {},
   "source": [
    "4. Load the article text into a trained `spaCy` pipeline, and determine the 5 most frequent lemmas (converted to lower case).  Print the common lemmas with an appropriate label.  Additionally, print the lemmas with their frequencies (with appropriate labels). Make sure to remove things we don't care about (punctuation, stopwords, whitespace)."
   ]
  },
  {
   "cell_type": "markdown",
   "metadata": {
    "tags": []
   },
   "source": [
    "# Question Four\n",
    "### Five most common lemmas"
   ]
  },
  {
   "cell_type": "code",
   "execution_count": 75,
   "metadata": {
    "tags": []
   },
   "outputs": [
    {
     "name": "stdout",
     "output_type": "stream",
     "text": [
      "The 5 most common lemmas are: [('laser', 40), ('headlight', 28), ('beam', 12), ('technology', 10), ('light', 10)]\n",
      "{'technology', 'laser', 'beam', 'headlight', 'light'}\n"
     ]
    }
   ],
   "source": [
    "# dealing with words that have the same base word like headlight and headlights in this case\n",
    "interesting_lemmas = [token.lemma_.lower() for token in doc if we_care_about(token)]\n",
    "lemma_freq = Counter(interesting_lemmas)\n",
    "\n",
    "print(f'The 5 most common lemmas are: {lemma_freq.most_common(5)}')\n",
    "\n",
    "top_five_lemmas = set()\n",
    "for lemma, freq in lemma_freq.most_common(5):\n",
    "    top_five_lemmas.add(lemma)\n",
    "\n",
    "print(top_five_lemmas)"
   ]
  },
  {
   "cell_type": "markdown",
   "metadata": {},
   "source": [
    "5. Define the following methods:\n",
    "    * `score_sentence_by_token(sentence, interesting_token)` that takes a sentence and a list of interesting token and returns the number of times that any of the interesting words appear in the sentence divided by the number of words in the sentence\n",
    "    * `score_sentence_by_lemma(sentence, interesting_lemmas)` that takes a sentence and a list of interesting lemmas and returns the number of times that any of the interesting lemmas appear in the sentence divided by the number of words in the sentence\n",
    "    \n",
    "You may find some of the code from the in class notes useful; feel free to use methods (rewrite them in this cell as well).  Test them by showing the score of the first sentence in your article using the frequent tokens and frequent lemmas identified in question 3."
   ]
  },
  {
   "cell_type": "markdown",
   "metadata": {},
   "source": [
    "# Question 5"
   ]
  },
  {
   "cell_type": "code",
   "execution_count": 76,
   "metadata": {},
   "outputs": [
    {
     "data": {
      "text/plain": [
       "0.1"
      ]
     },
     "execution_count": 76,
     "metadata": {},
     "output_type": "execute_result"
    }
   ],
   "source": [
    "## score_sentence_by_token \n",
    "import spacy\n",
    "import string\n",
    "\n",
    "# find the total words in a sentence \n",
    "def count_words_using_split(sentence):\n",
    "    words = sentence.split(' ')\n",
    "    words = [word for word in words if word.strip(string.punctuation)]\n",
    "    return len(words)\n",
    "\n",
    "def score_sentence_by_token(sentence, interesting_tokens):\n",
    "    nlp = spacy.load('en_core_web_sm')\n",
    "    doc = nlp(sentence)\n",
    "    interesting_token_count = sum([1 for token in doc if token.text.lower() in interesting_tokens])\n",
    "\n",
    "    score = interesting_token_count / count_words_using_split(sentence) if count_words_using_split(sentence) > 0 else 0.0\n",
    "\n",
    "    return score\n",
    "\n",
    "sentence1 = 'When we think about the onward march of automotive technology, headlights aren’t usually the first thing that come to mind.'\n",
    "\n",
    "score_sentence_by_token(sentence1, top_five_tokens)"
   ]
  },
  {
   "cell_type": "code",
   "execution_count": 77,
   "metadata": {
    "tags": []
   },
   "outputs": [
    {
     "data": {
      "text/plain": [
       "0.1"
      ]
     },
     "execution_count": 77,
     "metadata": {},
     "output_type": "execute_result"
    }
   ],
   "source": [
    "## score sentence by lemma\n",
    "\n",
    "import spacy\n",
    "\n",
    "def score_sentence_by_lemma(sentence, interesting_lemmas):\n",
    "    nlp = spacy.load('en_core_web_sm')\n",
    "    doc = nlp(sentence)\n",
    "    lemmas = [token.lemma_.lower() for token in doc]\n",
    "    interesting_lemma_count = sum([1 for lemma in lemmas if lemma in interesting_lemmas])\n",
    "\n",
    "    score = interesting_lemma_count / count_words_using_split(sentence) if count_words_using_split(sentence) > 0 else 0.0\n",
    "\n",
    "    return score\n",
    "\n",
    "sentence1 = 'When we think about the onward march of automotive technology, headlights aren’t usually the first thing that come to mind.'\n",
    "\n",
    "score_sentence_by_lemma(sentence1, top_five_lemmas)"
   ]
  },
  {
   "cell_type": "markdown",
   "metadata": {},
   "source": [
    "6. Make a list containing the scores (using tokens) of every sentence in the article, and plot a histogram with appropriate titles and axis labels of the scores. From your histogram, what seems to be the most common range of scores (put the answer in a comment after your code)?"
   ]
  },
  {
   "cell_type": "markdown",
   "metadata": {},
   "source": [
    "# Question Six\n",
    "### histograms"
   ]
  },
  {
   "cell_type": "code",
   "execution_count": 78,
   "metadata": {},
   "outputs": [
    {
     "data": {
      "image/png": "[encoded data removed]",
      "text/plain": [
       "<Figure size 640x480 with 1 Axes>"
      ]
     },
     "metadata": {},
     "output_type": "display_data"
    }
   ],
   "source": [
    "import pickle\n",
    "import spacy\n",
    "import matplotlib.pyplot as plt\n",
    "\n",
    "def extract_sentences(text):\n",
    "    nlp = spacy.load('en_core_web_sm')\n",
    "    doc = nlp(text)\n",
    "    sentences = [sent.text for sent in doc.sents]\n",
    "\n",
    "    return sentences\n",
    "\n",
    "if __name__ == \"__main__\":\n",
    "    input_filename = \"article_html.pkl\"\n",
    "    with open(input_filename, \"rb\") as f:\n",
    "        article_html = pickle.load(f)\n",
    "\n",
    "    article_element = soup.find('article')\n",
    "\n",
    "    article_text = article_element.get_text()\n",
    "    sentences = extract_sentences(article_text)\n",
    "    scores_by_tokens = []\n",
    "    interesting_tokens = top_five_tokens\n",
    "\n",
    "    for sentence in sentences:\n",
    "        score = score_sentence_by_token(sentence, interesting_tokens)\n",
    "        scores_by_tokens.append(score)\n",
    "\n",
    "    plt.hist(scores_by_tokens, bins=20, edgecolor='blue')\n",
    "    plt.xlabel(\"Score\")\n",
    "    plt.ylabel(\"Frequencey\")\n",
    "    plt.title(\"Distribution of Token Scores of each Sentence\")\n",
    "    plt.show()\n",
    "    \n",
    "# the most common is .00 to .06"
   ]
  },
  {
   "cell_type": "markdown",
   "metadata": {},
   "source": [
    "7. Make a list containing the scores (using lemmas) of every sentence in the article, and plot a histogram with appropriate titles and axis labels of the scores.  From your histogram, what seems to be the most common range of scores (put the answer in a comment after your code)?"
   ]
  },
  {
   "cell_type": "markdown",
   "metadata": {},
   "source": [
    "# Question 7\n",
    "### Scores of Lemmas"
   ]
  },
  {
   "cell_type": "code",
   "execution_count": 79,
   "metadata": {},
   "outputs": [
    {
     "data": {
      "image/png": "[encoded data removed]",
      "text/plain": [
       "<Figure size 640x480 with 1 Axes>"
      ]
     },
     "metadata": {},
     "output_type": "display_data"
    }
   ],
   "source": [
    "import pickle\n",
    "import spacy\n",
    "import matplotlib.pyplot as plt\n",
    "\n",
    "def extract_sentences(text):\n",
    "    nlp = spacy.load('en_core_web_sm')\n",
    "    doc = nlp(text)\n",
    "    sentences = [sent.text for sent in doc.sents]\n",
    "\n",
    "    return sentences\n",
    "\n",
    "if __name__ == \"__main__\":\n",
    "    input_filename = \"article_html.pkl\"\n",
    "    with open(input_filename, \"rb\") as f:\n",
    "        article_html = pickle.load(f)\n",
    "\n",
    "    article_element = soup.find('article')\n",
    "\n",
    "    article_text = article_element.get_text()\n",
    "    sentences = extract_sentences(article_text)\n",
    "    scores_by_lemmas = []\n",
    "    interesting_lemmas = top_five_lemmas\n",
    "\n",
    "    for sentence in sentences:\n",
    "        score = score_sentence_by_lemma(sentence, interesting_lemmas)\n",
    "        scores_by_lemmas.append(score)\n",
    "\n",
    "    plt.hist(scores_by_lemmas, bins=20, edgecolor='blue')\n",
    "    plt.xlabel(\"Score\")\n",
    "    plt.ylabel(\"Frequencey\")\n",
    "    plt.title(\"Distribution of Lemma Scores of each Sentence\")\n",
    "    plt.show()\n",
    "\n",
    "## most common scores are between 0.0 and 0.1"
   ]
  },
  {
   "cell_type": "markdown",
   "metadata": {},
   "source": [
    "# Question 8\n",
    "### Changing which words we see as important"
   ]
  },
  {
   "cell_type": "markdown",
   "metadata": {},
   "source": [
    "8. Which tokens and lexems would be ommitted from the lists generated in questions 3 and 4 if we only wanted to consider nouns as interesting words?  How might we change the code to only consider nouns? Put your answer in this Markdown cell (you can edit it by double clicking it).\n",
    "\n",
    "If all the tokens and lemmas were lowercase, the token LED becomes led, which is a verb. So it would get dropped when we only considered nouns. The lemma list would remain unchanged.\n",
    "\n",
    "The code we would need to change to consider only nouns is\n",
    "token.text for token in doc is token.pos_ == 'NOUN'\n"
   ]
  },
  {
   "cell_type": "code",
   "execution_count": null,
   "metadata": {},
   "outputs": [],
   "source": []
  }
 ],
 "metadata": {
  "kernelspec": {
   "display_name": "Python 3 (ipykernel)",
   "language": "python",
   "name": "python3"
  },
  "language_info": {
   "codemirror_mode": {
    "name": "ipython",
    "version": 3
   },
   "file_extension": ".py",
   "mimetype": "text/x-python",
   "name": "python",
   "nbconvert_exporter": "python",
   "pygments_lexer": "ipython3",
   "version": "3.9.13"
  }
 },
 "nbformat": 4,
 "nbformat_minor": 4
}
